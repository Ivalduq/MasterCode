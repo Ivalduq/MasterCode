{
 "cells": [
  {
   "cell_type": "code",
   "execution_count": 143,
   "metadata": {},
   "outputs": [],
   "source": [
    "import pandas as pd\n",
    "import matplotlib.pyplot as plt\n",
    "import numpy as np\n",
    "import tensorflow as tf\n",
    "import random"
   ]
  },
  {
   "cell_type": "code",
   "execution_count": 144,
   "metadata": {},
   "outputs": [
    {
     "name": "stdout",
     "output_type": "stream",
     "text": [
      "<class 'pandas.core.frame.DataFrame'>\n",
      "RangeIndex: 3497 entries, 0 to 3496\n",
      "Data columns (total 3 columns):\n",
      " #   Column     Non-Null Count  Dtype \n",
      "---  ------     --------------  ----- \n",
      " 0   Id         3497 non-null   int64 \n",
      " 1   Title      3497 non-null   object\n",
      " 2   Fake/Real  3497 non-null   object\n",
      "dtypes: int64(1), object(2)\n",
      "memory usage: 82.1+ KB\n"
     ]
    }
   ],
   "source": [
    "archive = pd.read_csv('./data/train_B_text.csv')\n",
    "df_copy = pd.DataFrame(archive)\n",
    "df_copy.info()"
   ]
  },
  {
   "cell_type": "code",
   "execution_count": 145,
   "metadata": {},
   "outputs": [
    {
     "name": "stdout",
     "output_type": "stream",
     "text": [
      "       Id                                              Title Fake/Real\n",
      "0     0.0  \"Humanitarian Aid: Volunteers Bring Relief to ...      fake\n",
      "1     1.0  Vegan, Low-Carbohydrate Eco-Atkins Diet could ...      real\n",
      "2     2.0  Fannie, Freddie Score Win Against Conn. Cities...      real\n",
      "3     3.0  'Bachelorette' star Andi Dorfman quits job as ...      real\n",
      "4     4.0     Deconstructing the FCC's Net Neutrality Ruling      real\n",
      "...   ...                                                ...       ...\n",
      "5492  NaN          90 of experts believe aliens are among us      fake\n",
      "5493  NaN                Experts warn of new aliens epidemic      fake\n",
      "5494  NaN           Study finds that robots prove new planet      fake\n",
      "5495  NaN  Study finds that aliens debunk magical phenomenon      fake\n",
      "5496  NaN          Experts warn of dangerous aliens epidemic      fake\n",
      "\n",
      "[5497 rows x 3 columns]\n"
     ]
    }
   ],
   "source": [
    "# Function to generate fake headlines\n",
    "def generate_fake_headline():\n",
    "    # You can use text generation techniques here\n",
    "    # For simplicity, let's generate fake headlines using templates and fillers\n",
    "    templates = [\n",
    "        \"Study finds that {noun} {verb} {adjective} {noun2}\",\n",
    "        \"New {noun} discovered in {place}\",\n",
    "        \"{Number} of {professionals} believe {outrageous_claim}\",\n",
    "        \"Experts warn of {adjective} {noun} epidemic\",\n",
    "        \"Breaking: {number} {noun} {verb} {place}\",\n",
    "        \"Scientists develop {adjective} {noun} to solve {global_issue}\",\n",
    "        \"{Celebrity} spotted {verb_ing} in {unexpected_place}\"\n",
    "    ]\n",
    "    \n",
    "    fillers = {\n",
    "        'noun': ['aliens', 'unicorns', 'robots', 'dinosaurs', 'dragons'],\n",
    "        'verb': ['discovered', 'confirm', 'prove', 'debunk', 'predict'],\n",
    "        'adjective': ['new', 'ancient', 'mysterious', 'dangerous', 'magical'],\n",
    "        'noun2': ['species', 'planet', 'phenomenon', 'artifact', 'creature'],\n",
    "        'unexpected_place': ['the Amazon rainforest', 'Mars', 'the Bermuda Triangle', 'Atlantis', 'a parallel universe'],\n",
    "        'place':['sea','Room 56', 'university','main square','beach', 'Barcelona'],\n",
    "        'Number': ['90', '80', '70', '60', '50'],\n",
    "        'professionals': ['scientists', 'doctors', 'experts', 'researchers', 'analysts'],\n",
    "        'outrageous_claim': ['the Earth is flat', 'aliens are among us', 'chocolate cures all diseases', 'time travel is possible'],\n",
    "        'number': ['Breaking News', 'Exclusive', 'Shocking Report', 'Urgent Update', 'Important Announcement'],\n",
    "        'Celebrity': ['Elon Musk', 'Beyoncé', 'Barack Obama', 'Taylor Swift', 'Keanu Reeves'],\n",
    "        'verb_ing': ['skydiving', 'cooking', 'singing', 'dancing', 'sleeping'],\n",
    "        'global_issue': ['climate change', 'world hunger', 'poverty', 'pandemic', 'terrorism']\n",
    "    }\n",
    "    \n",
    "    template = random.choice(templates)\n",
    "    headline = template.format(**{key: random.choice(fillers[key]) for key in fillers})\n",
    "    \n",
    "    return headline\n",
    "\n",
    "# Generate 1000 fake headlines\n",
    "fake_headlines = [generate_fake_headline() for _ in range(2000)]\n",
    "\n",
    "# Create DataFrame with fake headlines and 'Fake' label\n",
    "df_fake = pd.DataFrame({\n",
    "    'Title': fake_headlines,\n",
    "    'Fake/Real': ['fake'] * len(fake_headlines)\n",
    "})\n",
    "\n",
    "# Concatenate the existing dataset with the fake headlines dataset\n",
    "combined_dataset = pd.concat([df_copy, df_fake], ignore_index=True)\n",
    "\n",
    "print(combined_dataset)"
   ]
  },
  {
   "cell_type": "code",
   "execution_count": 146,
   "metadata": {},
   "outputs": [
    {
     "name": "stdout",
     "output_type": "stream",
     "text": [
      "                                                  Title Fake/Real\n",
      "0     \"Humanitarian Aid: Volunteers Bring Relief to ...      fake\n",
      "1     Vegan, Low-Carbohydrate Eco-Atkins Diet could ...      real\n",
      "2     Fannie, Freddie Score Win Against Conn. Cities...      real\n",
      "3     'Bachelorette' star Andi Dorfman quits job as ...      real\n",
      "4        Deconstructing the FCC's Net Neutrality Ruling      real\n",
      "...                                                 ...       ...\n",
      "5492          90 of experts believe aliens are among us      fake\n",
      "5493                Experts warn of new aliens epidemic      fake\n",
      "5494           Study finds that robots prove new planet      fake\n",
      "5495  Study finds that aliens debunk magical phenomenon      fake\n",
      "5496          Experts warn of dangerous aliens epidemic      fake\n",
      "\n",
      "[5497 rows x 2 columns]\n"
     ]
    }
   ],
   "source": [
    "df_copy = combined_dataset.drop(['Id'], axis=1)\n",
    "\n",
    "print(df_copy)"
   ]
  },
  {
   "cell_type": "code",
   "execution_count": 147,
   "metadata": {},
   "outputs": [
    {
     "data": {
      "text/plain": [
       "([<matplotlib.patches.Wedge at 0x1574cbb6110>,\n",
       "  <matplotlib.patches.Wedge at 0x1574c4e6950>],\n",
       " [Text(-0.031114518489900597, 1.0995598604619676, 'real'),\n",
       "  Text(0.031114415541676446, -1.0995598633751142, 'fake')],\n",
       " [Text(-0.01697155553994578, 0.599759923888346, '50.9%'),\n",
       "  Text(0.01697149938636897, -0.599759925477335, '49.1%')])"
      ]
     },
     "execution_count": 147,
     "metadata": {},
     "output_type": "execute_result"
    },
    {
     "data": {
      "image/png": "[encoded data removed]",
      "text/plain": [
       "<Figure size 640x480 with 1 Axes>"
      ]
     },
     "metadata": {},
     "output_type": "display_data"
    }
   ],
   "source": [
    "Real = df_copy['Fake/Real'].value_counts()\n",
    "plt.pie(Real, labels=Real.index,  autopct='%1.1f%%',colors=['green', 'red'])"
   ]
  },
  {
   "cell_type": "markdown",
   "metadata": {},
   "source": [
    "Y ahora debería partir este dataset aleatoriamente a fin de obtener los TRAIN y los VALIDATION.\n",
    "\n",
    "Luego evalúo con el TEST\n"
   ]
  },
  {
   "cell_type": "code",
   "execution_count": 148,
   "metadata": {},
   "outputs": [
    {
     "name": "stdout",
     "output_type": "stream",
     "text": [
      "<class 'pandas.core.frame.DataFrame'>\n",
      "RangeIndex: 1500 entries, 0 to 1499\n",
      "Data columns (total 2 columns):\n",
      " #   Column  Non-Null Count  Dtype \n",
      "---  ------  --------------  ----- \n",
      " 0   Id      1500 non-null   int64 \n",
      " 1   Title   1500 non-null   object\n",
      "dtypes: int64(1), object(1)\n",
      "memory usage: 23.6+ KB\n"
     ]
    },
    {
     "data": {
      "text/plain": [
       "array([\"Roche's cobas HPV Test gets FDA approval for first-line primary screening for  ...\",\n",
       "       'Security on High Alert at Final Four Events',\n",
       "       'Computer simulation shows how our universe grew up', ...,\n",
       "       'Moto E Makes an Appearance via Leaked Image; Flipkart Teases India Launch',\n",
       "       'Buried Fossil Soils Found To Be Rich In Carbon',\n",
       "       'Mayor seeks Brooks concert solution'], dtype=object)"
      ]
     },
     "execution_count": 148,
     "metadata": {},
     "output_type": "execute_result"
    }
   ],
   "source": [
    "real_archive = pd.read_csv('./data/test_B_text.csv')\n",
    "df_real_copy = pd.DataFrame(real_archive)\n",
    "df_real_copy.info()\n",
    "df_real_copy = df_real_copy.drop([ 'Id'], axis=1)\n",
    "\n",
    "real_data = np.asarray(df_real_copy)\n",
    "flat_real_data = real_data.flatten()\n",
    "\n",
    "flat_real_data\n"
   ]
  },
  {
   "cell_type": "code",
   "execution_count": 149,
   "metadata": {},
   "outputs": [
    {
     "name": "stdout",
     "output_type": "stream",
     "text": [
      "['\"Humanitarian Aid: Volunteers Bring Relief to Disaster-Hit Communities\"'\n",
      " 'Vegan, Low-Carbohydrate Eco-Atkins Diet could Reduce Heart Disease Risk'\n",
      " 'Fannie, Freddie Score Win Against Conn. Cities In Tax Row' ...\n",
      " 'Study finds that robots prove new planet'\n",
      " 'Study finds that aliens debunk magical phenomenon'\n",
      " 'Experts warn of dangerous aliens epidemic']\n",
      "['fake' 'real' 'real' ... 'fake' 'fake' 'fake']\n"
     ]
    }
   ],
   "source": [
    "data = np.asarray(df_copy)\n",
    "x = data[:,:-1]\n",
    "x_flat = x.flatten()\n",
    "y = data[:,-1]\n",
    "df_copy.head\n",
    "print(x_flat)\n",
    "print(y)"
   ]
  },
  {
   "cell_type": "code",
   "execution_count": 150,
   "metadata": {},
   "outputs": [
    {
     "name": "stderr",
     "output_type": "stream",
     "text": [
      "[nltk_data] Downloading package punkt to\n",
      "[nltk_data]     C:\\Users\\irene\\AppData\\Roaming\\nltk_data...\n",
      "[nltk_data]   Package punkt is already up-to-date!\n",
      "[nltk_data] Downloading package stopwords to\n",
      "[nltk_data]     C:\\Users\\irene\\AppData\\Roaming\\nltk_data...\n",
      "[nltk_data]   Package stopwords is already up-to-date!\n"
     ]
    }
   ],
   "source": [
    "\n",
    "import nltk\n",
    "nltk.download('punkt')\n",
    "nltk.download('stopwords')\n",
    "from nltk.tokenize import word_tokenize\n",
    "\n",
    "import string\n",
    "\n",
    "def preprocessing_algorithm(input_array):\n",
    "    # Text preprocessing\n",
    "    processed_text = []\n",
    "    for text in input_array:\n",
    "        # Tokenization\n",
    "        tokenized_text = word_tokenize(text.lower())\n",
    "        \n",
    "        # Remove punctuation\n",
    "        table = str.maketrans('', '', string.punctuation)\n",
    "        tokenized_text_no_punct = [word.translate(table) for word in tokenized_text]\n",
    "        \n",
    "        # Remove stopwords\n",
    "        stop_words = set(stopwords.words('english'))\n",
    "        filtered_text = [word for word in tokenized_text_no_punct if word not in stop_words]\n",
    "        \n",
    "        # Join tokens back into a string\n",
    "        processed_text.append(' '.join(filtered_text))\n",
    "    return processed_text\n",
    "\n",
    "\n",
    "\n"
   ]
  },
  {
   "cell_type": "code",
   "execution_count": 151,
   "metadata": {},
   "outputs": [],
   "source": [
    "# TF-IDF Vectorization\n",
    "from sklearn.feature_extraction.text import TfidfVectorizer\n",
    "processed_text= preprocessing_algorithm(x_flat)\n",
    "processed_real_text = preprocessing_algorithm(flat_real_data)\n",
    "combined = processed_text + processed_real_text \n",
    "\n",
    "tfidf_vectorizer = TfidfVectorizer()\n",
    "tfidf_vectorized = tfidf_vectorizer.fit(combined)\n",
    "tfidf_vectorized_f = tfidf_vectorizer.transform(processed_text)\n",
    "vectorized_real_data = tfidf_vectorizer.transform(processed_real_text)\n",
    "\n"
   ]
  },
  {
   "cell_type": "code",
   "execution_count": 152,
   "metadata": {},
   "outputs": [
    {
     "name": "stdout",
     "output_type": "stream",
     "text": [
      "Accuracy: 0.8536363636363636\n"
     ]
    }
   ],
   "source": [
    "from sklearn.model_selection import train_test_split\n",
    "\n",
    "from sklearn.linear_model import LogisticRegression\n",
    "from sklearn.metrics import accuracy_score, classification_report\n",
    "\n",
    "from sklearn.naive_bayes import BernoulliNB,  MultinomialNB\n",
    "\n",
    "clf = BernoulliNB()  #82% \n",
    "#clf = MultinomialNB() #81%\n",
    "#clf  = LogisticRegression(max_iter=1000) # max un 80%\n",
    "\n",
    "# Split into training and testing\n",
    "X_train,X_test,y_train,y_test = train_test_split(tfidf_vectorized_f,y,train_size=0.8,random_state=43)\n",
    "\n",
    "# Train the classifier\n",
    "clf.fit(X_train, y_train)\n",
    "\n",
    "# Evaluate results\n",
    "y_pred = clf.predict(X_test)\n",
    "acc = accuracy_score(y_test, y_pred)\n",
    "print(\"Accuracy:\", acc)\n",
    "#print(\"Classification Report:\")\n",
    "#print(classification_report(y_test, y_pred))\n",
    "\n"
   ]
  },
  {
   "cell_type": "code",
   "execution_count": 154,
   "metadata": {},
   "outputs": [
    {
     "name": "stdout",
     "output_type": "stream",
     "text": [
      "        Id                                              Title Fake/Real\n",
      "0        0  Roche's cobas HPV Test gets FDA approval for f...      real\n",
      "1        1        Security on High Alert at Final Four Events      real\n",
      "2        2  Computer simulation shows how our universe gre...      fake\n",
      "3        3    DREW BARRYMORE Welcomes Second Daughter Frankie      real\n",
      "4        4  Time Warner and Comcast FCC filing hints at ne...      real\n",
      "...    ...                                                ...       ...\n",
      "1495  1495    European recovery set to boost emerging markets      real\n",
      "1496  1496  The Hanson Brothers Are All Grown Up and Have ...      real\n",
      "1497  1497  Moto E Makes an Appearance via Leaked Image; F...      real\n",
      "1498  1498     Buried Fossil Soils Found To Be Rich In Carbon      real\n",
      "1499  1499                Mayor seeks Brooks concert solution      real\n",
      "\n",
      "[1500 rows x 3 columns]\n",
      "\n",
      "Statistics:\n",
      "Number of true headlines: 0.858\n",
      "Number of false headlines: 0.142\n"
     ]
    }
   ],
   "source": [
    "predictions = clf.predict(vectorized_real_data)\n",
    "import zipfile\n",
    "\n",
    "df_real_final = pd.DataFrame(real_archive)\n",
    "df_real_final['Fake/Real'] = predictions\n",
    "print(df_real_final)\n",
    "# Save the DataFrame to a CSV file\n",
    "csv_filename = 'final_predictions.csv'\n",
    "df_real_final.to_csv(csv_filename, index=False)\n",
    "\n",
    "# Compress the CSV file into a zip archive\n",
    "zip_filename = 'final_predictions.zip'\n",
    "\n",
    "with zipfile.ZipFile(zip_filename, 'w') as zipf:\n",
    "    zipf.write(csv_filename, arcname='final_predictions.csv')\n",
    "\n",
    "# Calculate statistics\n",
    "num_true = sum(predictions == 'real')\n",
    "num_false = sum(predictions == 'fake')\n",
    "total_headlines = len(predictions)\n",
    "\n",
    "# Print the predictions and statistics\n",
    "\n",
    "print(\"\\nStatistics:\")\n",
    "print(f\"Number of true headlines: {num_true/total_headlines}\")\n",
    "print(f\"Number of false headlines: {num_false/total_headlines}\")"
   ]
  }
 ],
 "metadata": {
  "kernelspec": {
   "display_name": "base",
   "language": "python",
   "name": "python3"
  },
  "language_info": {
   "codemirror_mode": {
    "name": "ipython",
    "version": 3
   },
   "file_extension": ".py",
   "mimetype": "text/x-python",
   "name": "python",
   "nbconvert_exporter": "python",
   "pygments_lexer": "ipython3",
   "version": "3.10.8"
  }
 },
 "nbformat": 4,
 "nbformat_minor": 2
}
